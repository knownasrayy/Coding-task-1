{
 "cells": [
  {
   "cell_type": "code",
   "execution_count": 19,
   "id": "0480a4b5-43d7-4df2-89fd-4e8d71914cbc",
   "metadata": {},
   "outputs": [],
   "source": [
    "import pandas as pd\n",
    "from scipy import stats  # Untuk modus"
   ]
  },
  {
   "cell_type": "code",
   "execution_count": 2,
   "id": "5bdda881-916e-4d47-af4b-9466fb66ddd8",
   "metadata": {},
   "outputs": [],
   "source": [
    "df = pd.read_excel('Dataset.xlsx')"
   ]
  },
  {
   "cell_type": "code",
   "execution_count": 7,
   "id": "a4875d80-5c86-4e79-8b40-54ae0a2a731c",
   "metadata": {},
   "outputs": [],
   "source": [
    "filelocation = 'C:\\\\Users\\\\Office\\\\Dataset.xlsx'"
   ]
  },
  {
   "cell_type": "code",
   "execution_count": 13,
   "id": "409730d1-85ac-453b-9141-320565f6a860",
   "metadata": {},
   "outputs": [
    {
     "data": {
      "text/html": [
       "<div>\n",
       "<style scoped>\n",
       "    .dataframe tbody tr th:only-of-type {\n",
       "        vertical-align: middle;\n",
       "    }\n",
       "\n",
       "    .dataframe tbody tr th {\n",
       "        vertical-align: top;\n",
       "    }\n",
       "\n",
       "    .dataframe thead th {\n",
       "        text-align: right;\n",
       "    }\n",
       "</style>\n",
       "<table border=\"1\" class=\"dataframe\">\n",
       "  <thead>\n",
       "    <tr style=\"text-align: right;\">\n",
       "      <th></th>\n",
       "      <th>Tanggal</th>\n",
       "      <th>Curah Hujan (mm)</th>\n",
       "      <th>Penjualan A (pcs)</th>\n",
       "      <th>Penjualan B (pcs)</th>\n",
       "    </tr>\n",
       "  </thead>\n",
       "  <tbody>\n",
       "    <tr>\n",
       "      <th>0</th>\n",
       "      <td>1</td>\n",
       "      <td>1.4</td>\n",
       "      <td>0</td>\n",
       "      <td>507</td>\n",
       "    </tr>\n",
       "    <tr>\n",
       "      <th>1</th>\n",
       "      <td>2</td>\n",
       "      <td>1.2</td>\n",
       "      <td>27</td>\n",
       "      <td>61</td>\n",
       "    </tr>\n",
       "    <tr>\n",
       "      <th>2</th>\n",
       "      <td>3</td>\n",
       "      <td>15.2</td>\n",
       "      <td>458</td>\n",
       "      <td>367</td>\n",
       "    </tr>\n",
       "    <tr>\n",
       "      <th>3</th>\n",
       "      <td>4</td>\n",
       "      <td>13.4</td>\n",
       "      <td>20</td>\n",
       "      <td>21</td>\n",
       "    </tr>\n",
       "    <tr>\n",
       "      <th>4</th>\n",
       "      <td>5</td>\n",
       "      <td>7.7</td>\n",
       "      <td>7</td>\n",
       "      <td>0</td>\n",
       "    </tr>\n",
       "    <tr>\n",
       "      <th>...</th>\n",
       "      <td>...</td>\n",
       "      <td>...</td>\n",
       "      <td>...</td>\n",
       "      <td>...</td>\n",
       "    </tr>\n",
       "    <tr>\n",
       "      <th>116</th>\n",
       "      <td>4</td>\n",
       "      <td>2.2</td>\n",
       "      <td>430</td>\n",
       "      <td>421</td>\n",
       "    </tr>\n",
       "    <tr>\n",
       "      <th>117</th>\n",
       "      <td>5</td>\n",
       "      <td>0.5</td>\n",
       "      <td>208</td>\n",
       "      <td>24</td>\n",
       "    </tr>\n",
       "    <tr>\n",
       "      <th>118</th>\n",
       "      <td>6</td>\n",
       "      <td>33.4</td>\n",
       "      <td>200</td>\n",
       "      <td>189</td>\n",
       "    </tr>\n",
       "    <tr>\n",
       "      <th>119</th>\n",
       "      <td>7</td>\n",
       "      <td>0.0</td>\n",
       "      <td>0</td>\n",
       "      <td>324</td>\n",
       "    </tr>\n",
       "    <tr>\n",
       "      <th>120</th>\n",
       "      <td>8</td>\n",
       "      <td>0.0</td>\n",
       "      <td>143</td>\n",
       "      <td>315</td>\n",
       "    </tr>\n",
       "  </tbody>\n",
       "</table>\n",
       "<p>121 rows × 4 columns</p>\n",
       "</div>"
      ],
      "text/plain": [
       "     Tanggal  Curah Hujan (mm)  Penjualan A (pcs)  Penjualan B (pcs)\n",
       "0          1               1.4                  0                507\n",
       "1          2               1.2                 27                 61\n",
       "2          3              15.2                458                367\n",
       "3          4              13.4                 20                 21\n",
       "4          5               7.7                  7                  0\n",
       "..       ...               ...                ...                ...\n",
       "116        4               2.2                430                421\n",
       "117        5               0.5                208                 24\n",
       "118        6              33.4                200                189\n",
       "119        7               0.0                  0                324\n",
       "120        8               0.0                143                315\n",
       "\n",
       "[121 rows x 4 columns]"
      ]
     },
     "execution_count": 13,
     "metadata": {},
     "output_type": "execute_result"
    }
   ],
   "source": [
    "df.head (122)"
   ]
  },
  {
   "cell_type": "code",
   "execution_count": 17,
   "id": "c1dc66c2-303d-4720-b9cd-bb55d65c49f4",
   "metadata": {},
   "outputs": [
    {
     "name": "stdout",
     "output_type": "stream",
     "text": [
      "Mean Curah Hujan: 14.259504132231406\n"
     ]
    }
   ],
   "source": [
    "mean_curah_hujan = df['Curah Hujan (mm)'].mean()\n",
    "mean_penjualan_A = df['Penjualan A (pcs)'].mean()\n",
    "mean_penjualan_B = df['Penjualan B (pcs)'].mean()\n",
    "print(\"Mean Curah Hujan:\", mean_curah_hujan)\n"
   ]
  },
  {
   "cell_type": "code",
   "execution_count": 23,
   "id": "4d7e8c59-d654-4c95-8773-2ddc5778c531",
   "metadata": {},
   "outputs": [
    {
     "name": "stdout",
     "output_type": "stream",
     "text": [
      "Median Curah Hujan: 2.1\n"
     ]
    }
   ],
   "source": [
    "median_curah_hujan = df['Curah Hujan (mm)'].median()\n",
    "print(\"Median Curah Hujan:\", median_curah_hujan)"
   ]
  },
  {
   "cell_type": "code",
   "execution_count": 31,
   "id": "e89de9d5-d8c8-4796-ad9e-228898d46dd8",
   "metadata": {},
   "outputs": [
    {
     "name": "stdout",
     "output_type": "stream",
     "text": [
      "Modus Curah Hujan: 0.0\n"
     ]
    }
   ],
   "source": [
    "mode_curah_hujan = stats.mode(df['Curah Hujan (mm)'], keepdims=True).mode[0]\n",
    "print(\"Modus Curah Hujan:\", mode_curah_hujan)"
   ]
  },
  {
   "cell_type": "code",
   "execution_count": 33,
   "id": "757fc753-98dc-42e4-8d1b-d3f3d8e9060b",
   "metadata": {},
   "outputs": [
    {
     "name": "stdout",
     "output_type": "stream",
     "text": [
      "Standar Deviasi Curah Hujan: 27.54025410955268\n"
     ]
    }
   ],
   "source": [
    "std_dev_curah_hujan = df['Curah Hujan (mm)'].std()\n",
    "print(\"Standar Deviasi Curah Hujan:\", std_dev_curah_hujan)"
   ]
  },
  {
   "cell_type": "code",
   "execution_count": 35,
   "id": "1d106ccf-f20b-44b7-9256-b965e74b5f5c",
   "metadata": {},
   "outputs": [
    {
     "name": "stdout",
     "output_type": "stream",
     "text": [
      "Skewness Curah Hujan: 3.6355983858682777\n"
     ]
    }
   ],
   "source": [
    "skewness_curah_hujan = df['Curah Hujan (mm)'].skew()\n",
    "print(\"Skewness Curah Hujan:\", skewness_curah_hujan)"
   ]
  },
  {
   "cell_type": "code",
   "execution_count": 37,
   "id": "9b25676f-abfd-4903-b4f5-fc3fab62b632",
   "metadata": {},
   "outputs": [
    {
     "name": "stdout",
     "output_type": "stream",
     "text": [
      "Kurtosis Curah Hujan: 16.575639030357358\n"
     ]
    }
   ],
   "source": [
    "kurtosis_curah_hujan = df['Curah Hujan (mm)'].kurt()\n",
    "print(\"Kurtosis Curah Hujan:\", kurtosis_curah_hujan)"
   ]
  },
  {
   "cell_type": "code",
   "execution_count": 39,
   "id": "510ce2f1-6d73-4f70-83fc-f45074542240",
   "metadata": {},
   "outputs": [
    {
     "name": "stdout",
     "output_type": "stream",
     "text": [
      "Curah Hujan Interval\n",
      "0-5      33\n",
      "5-10     12\n",
      "10-15     5\n",
      "15-20    11\n",
      "20-25     2\n",
      "25-30     1\n",
      "30-35     5\n",
      "Name: count, dtype: int64\n"
     ]
    }
   ],
   "source": [
    "# Membuat interval kelas untuk Curah Hujan\n",
    "bins = [0, 5, 10, 15, 20, 25, 30, 35]\n",
    "labels = ['0-5', '5-10', '10-15', '15-20', '20-25', '25-30', '30-35']\n",
    "\n",
    "# Tabel Distribusi Frekuensi\n",
    "df['Curah Hujan Interval'] = pd.cut(df['Curah Hujan (mm)'], bins=bins, labels=labels)\n",
    "frekuensi = df['Curah Hujan Interval'].value_counts().sort_index()\n",
    "\n",
    "# Menampilkan tabel distribusi frekuensi\n",
    "print(frekuensi)"
   ]
  },
  {
   "cell_type": "code",
   "execution_count": 41,
   "id": "0bda77d8-7b6e-4abb-ab6e-cdb840e93a45",
   "metadata": {},
   "outputs": [
    {
     "data": {
      "image/png": "[encoded data removed]",
      "text/plain": [
       "<Figure size 800x500 with 1 Axes>"
      ]
     },
     "metadata": {},
     "output_type": "display_data"
    }
   ],
   "source": [
    "import matplotlib.pyplot as plt\n",
    "\n",
    "# Membuat Histogram\n",
    "plt.figure(figsize=(8, 5))\n",
    "plt.hist(df['Curah Hujan (mm)'], bins=bins, edgecolor='black')\n",
    "plt.title('Histogram Curah Hujan')\n",
    "plt.xlabel('Curah Hujan (mm)')\n",
    "plt.ylabel('Frekuensi')\n",
    "plt.show()\n"
   ]
  },
  {
   "cell_type": "code",
   "execution_count": 45,
   "id": "b4dd70bb-9df6-4f18-b480-95b9aa43d34b",
   "metadata": {},
   "outputs": [
    {
     "data": {
      "image/png": "[encoded data removed]",
      "text/plain": [
       "<Figure size 800x500 with 1 Axes>"
      ]
     },
     "metadata": {},
     "output_type": "display_data"
    }
   ],
   "source": [
    "# Membuat Boxplot\n",
    "plt.figure(figsize=(8, 5))\n",
    "plt.boxplot(df['Curah Hujan (mm)'], vert=False, patch_artist=True)\n",
    "plt.title('Boxplot Curah Hujan')\n",
    "plt.xlabel('Curah Hujan (mm)')\n",
    "plt.show()\n"
   ]
  },
  {
   "cell_type": "code",
   "execution_count": null,
   "id": "23859005-8b68-4fc9-a5ad-47ca723d6155",
   "metadata": {},
   "outputs": [],
   "source": [
    "#Boxplot digunakan untuk:\n",
    "\n",
    "#Menunjukkan lima titik penting data: minimum, kuartil pertama (Q1), median (Q2), kuartil ketiga (Q3), dan maksimum.\n",
    "#Mendeteksi outliers (nilai yang jauh dari rentang normal).\n",
    "#Memvisualisasikan simetri atau asimetri distribusi data.\n",
    "#Membandingkan distribusi antar-kelompok."
   ]
  },
  {
   "cell_type": "code",
   "execution_count": 48,
   "id": "dc843bc4-a3dd-45e0-a243-3af787804c42",
   "metadata": {},
   "outputs": [],
   "source": [
    "#perbedaan Boxplot dan Histogram\n",
    "\n",
    "#Aspek\t       Boxplot\t                                                Histogram\n",
    "#Visualisasi   Menunjukkan lima nilai penting dan outliers\t            Menunjukkan distribusi data secara frekuensi\n",
    "#Fokus\t       Median, kuartil, IQR, outliers\t                        Frekuensi data dalam rentang tertentu\n",
    "#Kegunaan\t   Mendeteksi outliers dan simetri\t                        Melihat pola distribusi data (normal atau tidak)\n",
    "#Komparasi\t   Lebih efektif untuk membandingkan antar-kelompok\t        Histogram kurang efisien untuk komparasi\n"
   ]
  },
  {
   "cell_type": "code",
   "execution_count": null,
   "id": "72464d49-2226-4cd0-a112-d8265b712b90",
   "metadata": {},
   "outputs": [],
   "source": [
    "#Interpretasi Outlier:\n",
    "#Dari hasil boxplot curah hujan, kita melihat adanya beberapa titik di luar batas normal distribusi data (ditandai dengan lingkaran). Ini adalah outliers, yaitu data yang jauh dari rentang antar-kuartil (IQR).\n",
    "\n",
    "#Ringkasan Outlier:\n",
    "# - Batas Bawah dan Atas:\n",
    "#     - IQR (Interquartile Range): Selisih antara kuartil ke-3 (Q3) dan kuartil ke-1 (Q1).\n",
    "#     - Batas bawah: Q1 - 1.5 X IQR\n",
    "#     - Batas bawah: Q3 + 1.5 X IQR\n",
    "# - Outliers ditemukan:\n",
    "#     - Terdapat data curah hujan lebih dari 45 mm hingga 170.6 mm pada beberapa tanggal.\n",
    "#     - Outliers terbesar terjadi pada tanggal 18 dan 99, dengan curah hujan 170.6 mm."
   ]
  },
  {
   "cell_type": "code",
   "execution_count": null,
   "id": "37f83072-2e69-4c9a-8671-cf299941299e",
   "metadata": {},
   "outputs": [],
   "source": [
    "# Apakah Ada Data Ekstrem?\n",
    "# Ya, nilai curah hujan 170.6 mm adalah data ekstrem karena jauh di atas nilai normal curah hujan lainnya.\n",
    "# Sebagian besar data curah hujan berada di bawah 25 mm, tetapi beberapa hari tertentu memiliki curah hujan sangat tinggi, \n",
    "# yang bisa terjadi karena fenomena cuaca tak terduga atau kesalahan pencatatan."
   ]
  },
  {
   "cell_type": "code",
   "execution_count": null,
   "id": "8c3bed2b-8388-4dc3-845b-669b75696bbd",
   "metadata": {},
   "outputs": [],
   "source": [
    "#Kesimpulan Analisis Data Deskriptif Curah Hujan\n",
    "\n",
    "#Persebaran Data:\n",
    "#Dari analisis statistik deskriptif sebelumnya, mayoritas curah hujan harian berada di rentang 0 hingga 25 mm, menunjukkan bahwa sebagian besar hari mengalami hujan ringan atau tanpa hujan.\n",
    "#Tetapi, terdapat beberapa hari dengan curah hujan tinggi, mencapai lebih dari 100 mm, menunjukkan hujan deras atau kondisi ekstrem.\n",
    "\n",
    "#Outliers:\n",
    "#Outliers ditemukan pada curah hujan di atas 45 mm, dengan yang paling ekstrem mencapai 170.6 mm pada dua hari berbeda (tanggal 18 dan 99).\n",
    "#Outliers ini dapat menunjukkan fenomena cuaca luar biasa, seperti badai atau hujan musiman yang tidak biasa. Outliers adalah valid jika disebabkan oleh kondisi cuaca, namun perlu diperiksa kembali jika ada kemungkinan kesalahan pencatatan.\n",
    "\n",
    "#Bentuk Distribusi (Skewness dan Kurtosis):\n",
    "\n",
    "#Distribusi Miring Positif (Right-Skewed):\n",
    "\n",
    "#Dari boxplot dan analisis skewness, distribusi curah hujan cenderung miring ke kanan. Hal ini dikarenakan sebagian besar data berada pada nilai rendah, namun terdapat beberapa data pada nilai tinggi yang menyebabkan rata-rata tertarik ke kanan.\n",
    "#Kurtosis: Ketika data memiliki kurtosis tinggi, hal ini menandakan adanya pencilan yang mempengaruhi distribusi, seperti yang terlihat pada boxplot.\n",
    "\n",
    "#Apakah Distribusi Normal?\n",
    "#Data tidak terdistribusi secara normal, karena terdapat kemiringan positif dan pencilan yang signifikan. \n",
    "#Selain itu, pada histogram (jika dibuat), kemungkinan besar akan terlihat bahwa mayoritas data terkonsentrasi di sekitar 0 hingga 25 mm,\n",
    "#sedangkan nilai lebih tinggi jarang muncul."
   ]
  }
 ],
 "metadata": {
  "kernelspec": {
   "display_name": "Python 3 (ipykernel)",
   "language": "python",
   "name": "python3"
  },
  "language_info": {
   "codemirror_mode": {
    "name": "ipython",
    "version": 3
   },
   "file_extension": ".py",
   "mimetype": "text/x-python",
   "name": "python",
   "nbconvert_exporter": "python",
   "pygments_lexer": "ipython3",
   "version": "3.12.4"
  }
 },
 "nbformat": 4,
 "nbformat_minor": 5
}
